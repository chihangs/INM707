{
 "cells": [
  {
   "cell_type": "markdown",
   "id": "5f710089",
   "metadata": {},
   "source": [
    "# Connect4 Reinforcement Learning by DQN"
   ]
  },
  {
   "cell_type": "code",
   "execution_count": 1,
   "id": "7f9835f4",
   "metadata": {},
   "outputs": [],
   "source": [
    "import numpy as np\n",
    "import copy\n",
    "import tensorflow as tf\n",
    "from sklearn.model_selection import train_test_split\n",
    "from keras.models import Sequential\n",
    "from keras.layers import Dense, Activation, Flatten\n",
    "from tensorflow.keras.optimizers import SGD, Adam, RMSprop\n",
    "from tensorflow.keras import regularizers\n",
    "from keras.layers import Dropout\n",
    "from sklearn.preprocessing import StandardScaler\n",
    "from abc import ABC, abstractmethod\n",
    "from random import random, randint, sample\n",
    "import seaborn as sns\n",
    "from scipy import stats\n",
    "import matplotlib.pyplot as plt\n",
    "import os\n",
    "import time\n",
    "import tkinter as tk\n",
    "import torch\n",
    "import math"
   ]
  },
  {
   "cell_type": "code",
   "execution_count": 2,
   "id": "203560ad",
   "metadata": {},
   "outputs": [],
   "source": [
    "#initialize for random seeds/states\n",
    "seeds=[12345,42,42,42]\n",
    "def randomize(seed_rng=seeds[0], seed_np=seeds[1], seed_torch=seeds[2], seed_tf=seeds[3]):\n",
    "    tf.keras.backend.clear_session()\n",
    "    os.environ['PYTHONHASHSEED'] = '0'\n",
    "    rng = np.random.default_rng(seed_rng)\n",
    "    np.random.seed(seed_np)\n",
    "    torch.manual_seed(seed_torch)\n",
    "    tf.random.set_seed(seed_tf)\n",
    "\n",
    "randomize()"
   ]
  },
  {
   "cell_type": "code",
   "execution_count": 3,
   "id": "45e8beef",
   "metadata": {},
   "outputs": [],
   "source": [
    "class paper_game(ABC):\n",
    "    def __init__(self, start_state):\n",
    "        self.state=start_state\n",
    "    \n",
    "    @abstractmethod\n",
    "    def transition(state, action, player):\n",
    "        #return next state\n",
    "        pass"
   ]
  },
  {
   "cell_type": "markdown",
   "id": "3eed5a0f",
   "metadata": {},
   "source": [
    "## 1. Connect4 basic functionality"
   ]
  },
  {
   "cell_type": "code",
   "execution_count": 4,
   "id": "104ca979",
   "metadata": {},
   "outputs": [],
   "source": [
    "class connect4(paper_game):\n",
    "    #state: 6x7 array to represent board config, with 1 representing self-checker, -1 representing opponent-checker, 0 representing empty\n",
    "    def __init__(self, start_state=np.zeros((6,7), dtype=np.int8), Q_network=None):\n",
    "        self.state = start_state\n",
    "        self.turn_count = 0\n",
    "        self.Q = Q_network\n",
    "        #self.Q = np.zeros((19683, 9)) - need to change to Q-network somewhere\n",
    "        \n",
    "    def transition(self, state, action, player):\n",
    "        #action: a list/tuple of row and column index to indicate which cell is chosen\n",
    "        #player: 1 or -1, with 1 being self-checker, -1 being opponent-checker\n",
    "        #applicable to both tic_tac_toe and Connect-4\n",
    "        #return next state\n",
    "        new_state = copy.deepcopy(state)\n",
    "        new_state[action[0]][action[1]] = player\n",
    "        return new_state      \n",
    "\n",
    "    def win_status(self, s, action, player):  \n",
    "        #note: unlike tic-tac-toe, action is needed for input, to save computation\n",
    "        #suppose state before action is not winning, so only check lines connected with action\n",
    "        #s: state before action\n",
    "        #action: list/tuple/array, unpackable to row and column index to indicate which cell is chosen\n",
    "        #player: 1 or -1, the player taking the action\n",
    "        #----return----- \n",
    "        #win: whether player wins or not with the action\n",
    "        #lose means \"if\" it is opposite player's turn instead, hypothetical only\n",
    "        w = 3 * player  # use 3 instead of 4 because the action is not yet put into board\n",
    "        r, c = action\n",
    "        f = np.fliplr(s) #flip for finding diagonal in opposite direction, i.e. upwards\n",
    "        c_f = 6 - c      #for use in flipped states\n",
    "        lines = [s[r:r+4, c].sum()] # vertical line\n",
    "        for i in range(4):\n",
    "            lines.append(s[r,  c-i:c+4-i].sum()) #horizontal line\n",
    "            lines.append(s[r-i:r+4-i, c-i:c+4-i].diagonal().sum()) #diagonal line\n",
    "            lines.append(f[r-i:r+4-i, c_f-i:c_f+4-i].diagonal().sum()) #diagonal line in opposite direction\n",
    "        win = w in lines\n",
    "        lose = -w in lines\n",
    "        return win, lose   #lose is only hypothetical check here\n",
    "    \n",
    "    def action_list(self, state):\n",
    "        #return array of shape (n, 2), where n is no of possible actions, each represented by row and column\n",
    "        row_list = 5 - np.sum(abs(state), axis=0)\n",
    "        col_list = np.where(row_list >= 0)\n",
    "        act_list = np.dstack((row_list[col_list], col_list))[0]   #use [0] instead of squeeze which causes unexpected shape when only one action is legal\n",
    "        return act_list    #note: unlike tic-tac-toe, act_list[0] is the first action instead of row indices\n",
    "    \n",
    "    def random_move(self, state, act_list=None): #unlike tic-tac-toe, it allows input of short-listed actions\n",
    "        #return action in array of shape (2,)\n",
    "        if act_list is None:\n",
    "            act_list = self.action_list(state)\n",
    "        i = np.random.randint(len(act_list))\n",
    "        action = act_list[i]\n",
    "        return action\n",
    "\n",
    "    def basic_check(self, state, player=1, act_list=None):       \n",
    "        #exploit immediate win / then avoid immediate win by opponent; otherwise return empty move\n",
    "        #act_list: allows input of short-listed actions of player to save computation\n",
    "        #--------return--------\n",
    "        #action: action that can win, or if not available then return action that blocks opponent's win\n",
    "        #win_count: dictionary, no. of ways to win immediately by each player\n",
    "        #safe_list: actions that opponent cannot win immediately \"above\", not consider win move or other moves that lose\n",
    "        #note: safe_list is list of array while act_list is array of array in action_list function\n",
    "        if act_list is None:\n",
    "            act_list = self.action_list(state)\n",
    "        action = []\n",
    "        block = []\n",
    "        safe_list = []\n",
    "        win_count = {1: 0, -1: 0,}\n",
    "        for a in act_list:\n",
    "            win, op_win = self.win_status(state, a, player)\n",
    "            if win:\n",
    "                action = a\n",
    "                win_count[player] += 1\n",
    "            if op_win:\n",
    "                block = a\n",
    "                win_count[-player] += 1   #neagtive player means opposite player\n",
    "            #check if there is trap i.e. whether opponent can win on the same column immediately above the move\n",
    "            if a[0] == 0: \n",
    "                safe_list.append(a)  #highest row has no danger above it\n",
    "            else:\n",
    "                s = self.transition(state, a, player=player)\n",
    "                #simulate opponent move immediately above, along same column\n",
    "                op_win, _ = self.win_status(s, [a[0]-1, a[1]], -player)  #note: opposite player, so win becomes op_win\n",
    "                if not op_win:\n",
    "                    safe_list.append(a)\n",
    "    \n",
    "        if len(action)==0:  #if action is still empty\n",
    "            action = block\n",
    "        return action, win_count, safe_list  #safe list does not consider win move or block move; it is a list of array, not array of array\n",
    "    \n",
    "    def basic_move(self, state, player=1):\n",
    "        #exploit immediate win and then avoid immediate win by opponent; otherwise random\n",
    "        #return action\n",
    "        action, win_count, act_list = self.basic_check(state, player=player)\n",
    "        if len(action)==0:  \n",
    "            if len(act_list)==0:  #short list from basic check can be empty if no safe space\n",
    "                act_list = self.action_list(state)\n",
    "            action = self.random_move(state, act_list)\n",
    "        return action\n",
    "    \n",
    "    def medium_move(self, state, player=1):\n",
    "        #exploit immediate win and immeidate checkmate and avoid such by opponent; otherwise random\n",
    "        #return action\n",
    "        action, win_count, act_list = self.basic_check(state, player=player)\n",
    "        if len(action)==0:  \n",
    "            if len(act_list)==0:  #short list from basic check can be empty if no safe space\n",
    "                act_list = self.action_list(state)\n",
    "            else:\n",
    "                safe_idx = []\n",
    "                for idx, a in enumerate(act_list): #note: this act_list is safe list from basic_check\n",
    "                    safe_idx.append(idx)\n",
    "                    s1 = self.transition(state, a, player=player)\n",
    "                    op_action, win_c1, op_safe_list = self.basic_check(s1, player=-player)\n",
    "                    if win_c1[player] > 1 or op_safe_list==[] or (win_c1[player]==1 and (op_action[1:2] not in np.array(op_safe_list)[:,1]) ):  #i.e. checkmate\n",
    "                        action = a\n",
    "                        break\n",
    "                        \n",
    "                    else:\n",
    "                        for op_act in op_safe_list:\n",
    "                            s2 = self.transition(state, op_act, player=-player)\n",
    "                            a2, win_c2, safe_list2 = self.basic_check(s2, player=player)\n",
    "                            if win_c2[player]==0:\n",
    "                                if  win_c2[-player]>1 or safe_list2==[] or (win_c2[-player]==1 and (a2[1:2] not in np.array(safe_list2)[:,1]))  :  #i.e. being checkmated\n",
    "                                    safe_idx.pop()\n",
    "                                    break\n",
    "                if safe_idx != []:\n",
    "                    act_list = np.array(act_list)\n",
    "                    act_list = act_list[safe_idx]\n",
    "        if len(action)==0:\n",
    "            action = self.random_move(state, act_list)\n",
    "        return action\n",
    "  \n",
    "    def display_board(self, state):\n",
    "        print('-------------------')\n",
    "        print(state)\n",
    "        print('-------------------')\n",
    "        print(np.array([[0,1,2,3,4,5,6]]))\n",
    "            \n",
    "    def display_colour(self, state):\n",
    "        fig, ax = plt.subplots()\n",
    "        im = ax.imshow(state)\n",
    "        ax.set_xticks(np.arange(7))\n",
    "        ax.set_yticks(np.arange(6))\n",
    "        ax.set_xticklabels(np.arange(7))\n",
    "        ax.set_yticklabels(np.arange(6))\n",
    "        for i in range(6):\n",
    "            for j in range(7):\n",
    "                text = ax.text(j, i, state[i, j], ha=\"center\", va=\"center\", color=\"g\")\n",
    "        ax.set_title(\"1: computer; -1: you\")\n",
    "        fig.tight_layout()\n",
    "        plt.show()\n",
    "    \n",
    "    def play_game(self, starter = 1, policy_function=None):\n",
    "        state = np.zeros((6,7), dtype=np.int8)\n",
    "        player = starter\n",
    "        endgame = False\n",
    "        t = 0\n",
    "        if policy_function is None:\n",
    "            policy_function = self.medium_move \n",
    "        player_dict = {1: \"computer\", -1: \"you\",}\n",
    "        #self.display_colour(state)\n",
    "        while not endgame:\n",
    "            if player == -1:\n",
    "                valid = False\n",
    "                while not valid:\n",
    "                    j = int(input('enter column: (0-6)\\n')) \n",
    "                    valid = j in self.action_list(state)[:,1]          #data validation on column input\n",
    "                    if not valid:\n",
    "                        print('Invalid column input!')\n",
    "                        if j in [0,1,2,3,4,5,6]:\n",
    "                            print('The column is full!')\n",
    "                i = (5 - np.sum(abs(state),axis=0))[j]\n",
    "            else:\n",
    "                i, j = policy_function(state)\n",
    "            player_win, _ = self.win_status(state, [i,j], player)\n",
    "            state[i,j] = player\n",
    "            self.display_colour(state)  \n",
    "            if player_win:\n",
    "                print('The winner is '+player_dict[player])\n",
    "            player *= -1\n",
    "            t += 1\n",
    "            endgame = player_win or t==42\n",
    "        if not player_win:\n",
    "            print('This is a draw.')\n",
    "\n",
    "\n",
    "    def greedy_policy(self, state, network):\n",
    "        with torch.no_grad():\n",
    "            network.eval()\n",
    "            q = np.array(network(convert_state(state))).squeeze()\n",
    "            network.train()\n",
    "        act_col_list = self.action_list(state)[:,1]\n",
    "        legal_move_q = np.array(q[act_col_list])\n",
    "        j = act_col_list[np.argmax(legal_move_q)]\n",
    "        i = (5 - np.sum(abs(state), axis=0))[j]\n",
    "        action =[i, j]\n",
    "        return action\n",
    "    \n",
    "    def step(self,action,network):\n",
    "        #action: one of column numbers 0-6\n",
    "        #network: Q network\n",
    "        #return-----------\n",
    "        #state: new state, numpy format\n",
    "        #reward: 0, 100 or -100\n",
    "        #endgame: boolean, end game or not\n",
    "        #in this function, the agent will play one step according to the game's state.\n",
    "        #Also, the rewards of each action would be saved in the replay memory.\n",
    "        reward = 0   \n",
    "        endgame = False\n",
    "        \n",
    "        j = action\n",
    "        i = 5 - np.sum(abs(self.state[:,j]))\n",
    "        win = self.win_status(self.state,[i,j], 1)[0]\n",
    "        self.state[i,j] = 1\n",
    "        self.turn_count += 1\n",
    "\n",
    "        if win:  \n",
    "            reward = 100\n",
    "            endgame = True\n",
    "        else:\n",
    "            if self.turn_count == 42:\n",
    "                endgame = True\n",
    "            else:\n",
    "                i,j = self.greedy_policy(-self.state, network)    #negative state for opponent\n",
    "                opponent_win = self.win_status(self.state, [i,j], -1)[0]  #-1 to indicate opponent\n",
    "                self.state[i,j] = -1\n",
    "                self.turn_count += 1\n",
    "                if opponent_win:    \n",
    "                    reward = -100\n",
    "                    endgame = True\n",
    "                if self.turn_count == 42:\n",
    "                    endgame = True\n",
    "        \n",
    "        return_state = copy.deepcopy(self.state)\n",
    "\n",
    "        return return_state, reward, endgame\n",
    "\n",
    "    def win_p100(self,network, difficulty=0): \n",
    "        #the agent would play 100 games with the random or medium moves\n",
    "        #and the result is the number of games that agent has won\n",
    "        self.Q = network\n",
    "        choices = [-1,1]*50\n",
    "        win_count = 0\n",
    "        lose_count = 0\n",
    "        draw_count = 0\n",
    "        handcraft_agent = [self.random_move, self.basic_move, self.medium_move]\n",
    "        opponent_policy = handcraft_agent[difficulty]\n",
    "        for i in range(100):\n",
    "            state = np.zeros((6,7), dtype=np.int8)\n",
    "            current_turn = choices[-1]\n",
    "            endgame = False\n",
    "            t = 0\n",
    "            while not endgame:\n",
    "                if current_turn == 1:\n",
    "                    i,j = self.greedy_policy(state, network)\n",
    "                else:\n",
    "                    i,j = opponent_policy(-state)        #negative state for opponent\n",
    "                    # i,j = self.medium_move(state,-1)      \n",
    "                t += 1\n",
    "\n",
    "                if self.win_status(state,[i,j] ,1)[0]:\n",
    "                    win_count += 1\n",
    "                    endgame = True\n",
    "                elif self.win_status(state, [i,j], -1)[0]:\n",
    "                    lose_count += 1\n",
    "                    endgame = True\n",
    "                elif t == 42:\n",
    "                    draw_count += 1\n",
    "                    endgame = True\n",
    "                    \n",
    "                state[i,j] = current_turn\n",
    "                current_turn *= -1\n",
    "            choices = choices[:-1]\n",
    "        return win_count, lose_count, draw_count\n",
    "\n",
    "\n",
    "    def play_DQN(self, network, starter = 1,):\n",
    "        #playing against the agent which decides each move based on a Q network\n",
    "        self.Q = network\n",
    "        state = np.zeros((6,7), dtype=np.int8)\n",
    "        current_turn = starter\n",
    "        endgame = False\n",
    "        t = 0\n",
    "        player_dict = {1: \"computer\", -1: \"you\",}\n",
    "        while not endgame:\n",
    "            if current_turn == 1:\n",
    "                i, j = self.greedy_policy(state, network)\n",
    "            else:\n",
    "                j = int(input('enter column: (0-6)\\n'))\n",
    "                i = (5 - np.sum(abs(state),axis=0))[j]           \n",
    "\n",
    "            if self.win_status(state,[i,j] ,current_turn)[0]:\n",
    "                print('The winner is '+player_dict[current_turn])\n",
    "                endgame = True\n",
    "\n",
    "            # elif self.win_status(state,[i,j] ,current_turn)[1]:\n",
    "            #     print(f'{current_turn} lose')\n",
    "            #     endgame = True\n",
    "\n",
    "            elif t == 42:\n",
    "                endgame = True\n",
    "                print('draw')\n",
    "                \n",
    "            state[i,j] = current_turn  \n",
    "            current_turn *= -1\n",
    "            t += 1\n",
    "            self.display_colour(state)\n",
    "\n",
    "    def reset(self):\n",
    "        #reset the games state to the initial values\n",
    "        self.state = np.zeros((6,7), dtype=np.int8)\n",
    "        self.turn_count = 0\n",
    "        return self.state\n",
    "        # self.display_colour(self.state)"
   ]
  },
  {
   "cell_type": "markdown",
   "id": "b5592110",
   "metadata": {},
   "source": [
    "### Let's play Connect4 with hand-crafted agent first"
   ]
  },
  {
   "cell_type": "code",
   "execution_count": 5,
   "id": "1e4287de",
   "metadata": {
    "scrolled": false
   },
   "outputs": [],
   "source": [
    "playHandcraft = False\n",
    "if playHandcraft:\n",
    "    test1 = connect4()\n",
    "    test1.play_game()"
   ]
  },
  {
   "cell_type": "code",
   "execution_count": 6,
   "id": "78db2d96",
   "metadata": {},
   "outputs": [],
   "source": [
    "if playHandcraft:\n",
    "    test2 = connect4()\n",
    "    test2.play_game(starter=-1)"
   ]
  },
  {
   "cell_type": "markdown",
   "id": "b5f36e03",
   "metadata": {},
   "source": [
    "## 2. Memory and state conversion"
   ]
  },
  {
   "cell_type": "code",
   "execution_count": 7,
   "id": "3f6f0ed0",
   "metadata": {},
   "outputs": [],
   "source": [
    "#each memory of the game consists of the current state, the action of the agent, \n",
    "#the next state after the action, and the reward of that action.\n",
    "\n",
    "from collections import namedtuple\n",
    "\n",
    "Transition = namedtuple('Transition', ('state', 'action', 'next_state', 'reward'))\n",
    "device = torch.device(\"cuda\" if torch.cuda.is_available() else \"cpu\")\n",
    "\n",
    "def convert_state(state):\n",
    "    #converting each state to a flatten tensor\n",
    "    #state = state.flatten()   #flatten inside NN instead if needed\n",
    "    state_tensor = torch.tensor(state, device=device).unsqueeze(0)\n",
    "    return state_tensor\n",
    "    \n",
    "class ReplayMemory:\n",
    "    def __init__(self, capacity):\n",
    "        self.capacity = capacity\n",
    "        self.memory = []\n",
    "        self.position = 0\n",
    "        self.counter = 0\n",
    "        self.total = 0\n",
    "\n",
    "    def push(self, state, action, next_state, reward):\n",
    "        #saving memory\n",
    "        if len(self.memory) < self.capacity:\n",
    "            self.memory.append(None)\n",
    "            \n",
    "        state_tensor = convert_state(state)\n",
    "        \n",
    "        if next_state is None:\n",
    "            state_tensor_next = None            \n",
    "        else:\n",
    "            state_tensor_next = convert_state(next_state)\n",
    "            \n",
    "        action_tensor = torch.tensor([action], device=device).unsqueeze(0)\n",
    "        reward = torch.tensor([reward], device=device).unsqueeze(0)/100. # reward scaling\n",
    "        self.memory[self.position] = Transition(state_tensor, action_tensor, state_tensor_next, reward)\n",
    "        self.position = (self.position + 1) % self.capacity\n",
    "\n",
    "    def sample(self, batch_size, prioritized=False, alpha=0.5, beta=0):\n",
    "        if prioritized:\n",
    "            rewards = torch.tensor([self.memory[i].reward for i in range(len(self.memory))])\n",
    "            priority = torch.abs(rewards/100) + 0.01\n",
    "            pp = torch.pow(priority, alpha)\n",
    "            prob = pp/torch.sum(pp)\n",
    "            N = len(self.memory)\n",
    "            weight = torch.pow((N*prob),-beta)\n",
    "            prob_w = np.asarray(torch.mul(prob, weight)).astype('float64')\n",
    "            p = prob_w/np.sum(prob_w)\n",
    "            rnd_indices = np.random.choice(N, batch_size, p=p)\n",
    "            sample=[self.memory[i] for i in rnd_indices]\n",
    "        else:\n",
    "            sample = sample(self.memory, batch_size)\n",
    "        return sample\n",
    "\n",
    "    def __len__(self):\n",
    "        return len(self.memory)"
   ]
  },
  {
   "cell_type": "markdown",
   "id": "85fcd2e1",
   "metadata": {},
   "source": [
    "## 3. Approximate Q-matrix by neural network"
   ]
  },
  {
   "cell_type": "code",
   "execution_count": 8,
   "id": "f8f2f6cd",
   "metadata": {},
   "outputs": [],
   "source": [
    "#Q networks of the game, there are several networks in this part, but the first one is currently working\n",
    "\n",
    "import torch\n",
    "import torch.nn as nn\n",
    "import torch.optim as optim\n",
    "import torch.nn.functional as F\n",
    "\n",
    "\n",
    "class DQN(nn.Module):\n",
    "\n",
    "    def __init__(self, input_size, size_hidden, output_size):\n",
    "        super().__init__()\n",
    "        self.flatten = nn.Flatten()\n",
    "        self.fc1 = nn.Linear(input_size, size_hidden)\n",
    "        self.bn1 = nn.BatchNorm1d(size_hidden)\n",
    "        self.fc2 = nn.Linear(size_hidden, size_hidden)   \n",
    "        self.bn2 = nn.BatchNorm1d(size_hidden)\n",
    "        self.fc3 = nn.Linear(size_hidden, size_hidden)  \n",
    "        self.bn3 = nn.BatchNorm1d(size_hidden)\n",
    "        self.fc4 = nn.Linear(size_hidden, output_size)\n",
    "        \n",
    "    def forward(self, x):\n",
    "        x = self.flatten(x)\n",
    "        h1 = F.relu(self.bn1(self.fc1(x.float())))\n",
    "        h2 = F.relu(self.bn2(self.fc2(h1)))\n",
    "        h3 = F.relu(self.bn3(self.fc3(h2)))\n",
    "        output = self.fc4(h3.view(h3.size(0), -1))\n",
    "        return output\n",
    "\n",
    "class DQN_CNN(nn.Module):\n",
    "    def __init__(self, k=128, n=256, p=0.4):\n",
    "        super().__init__()\n",
    "        self.conv1 = nn.Conv2d(3, k, 4, padding='same') #2D convolution layer, k channels - kernels of 3x3, \n",
    "        self.conv2 = nn.Conv2d(k, 4*k, 4, padding='same') ##2D convolution layer, 4k channels - kernels of 3x3, \n",
    "        self.pool = nn.MaxPool2d(2, 2)   #2D max pooling\n",
    "        self.fc1 = nn.Linear(256*k, n)\n",
    "        self.fc2 = nn.Linear(n, 7)\n",
    "        self.dropout = nn.Dropout(p)\n",
    "\n",
    "    def forward(self, x):\n",
    "        x = self.pool(F.relu(self.conv1(x)))\n",
    "        x = self.pool(F.relu(self.conv2(x)))\n",
    "        x = torch.flatten(x, 1) # flatten all dimensions except batch\n",
    "        x = self.dropout(x)\n",
    "        x = F.relu(self.fc1(x))\n",
    "        x = self.dropout(x)\n",
    "        x = self.fc2(x)\n",
    "        return x"
   ]
  },
  {
   "cell_type": "code",
   "execution_count": 9,
   "id": "d399c23f",
   "metadata": {},
   "outputs": [],
   "source": [
    "OBS_SIZE = 42    #size of the state\n",
    "HIDDEN_SIZE = 128    #hidden nodes of the network\n",
    "ACTION_SIZE = 7     #number of actiones and nodes in the last layer\n",
    "\n",
    "# Q_network = NewDQN(OBS_SIZE, ACTION_SIZE).to(device)\n",
    "# Q_target = NewDQN(OBS_SIZE, ACTION_SIZE).to(device)\n",
    "# Q_target.load_state_dict(Q_network.state_dict())\n",
    "# Q_target.eval()\n",
    "\n",
    "Q_network = DQN(OBS_SIZE, HIDDEN_SIZE, ACTION_SIZE).to(device)\n",
    "Q_target = DQN(OBS_SIZE, HIDDEN_SIZE, ACTION_SIZE).to(device)\n",
    "Q_target.load_state_dict(Q_network.state_dict())\n",
    "Q_target.eval()\n",
    "\n",
    "# Q_network = DQN_CNN().to(device)\n",
    "# Q_target = DQN_CNN().to(device)\n",
    "# Q_target.load_state_dict(Q_network.state_dict())\n",
    "# Q_target.eval()\n",
    "\n",
    "#updating Q_target network after a certain epoch\n",
    "TARGET_UPDATE = 20\n",
    "\n",
    "optimizer = optim.SGD(Q_network.parameters(), lr=0.01)\n",
    "memory = ReplayMemory(40000)    #capacity of the memory"
   ]
  },
  {
   "cell_type": "markdown",
   "id": "00b58ac3",
   "metadata": {},
   "source": [
    "## 4. Epsilon-Greedy Policy"
   ]
  },
  {
   "cell_type": "code",
   "execution_count": 10,
   "id": "9a77cb01",
   "metadata": {},
   "outputs": [],
   "source": [
    "class E_Greedy_Policy():\n",
    "    \n",
    "    def __init__(self, epsilon, decay, min_epsilon, Q_network=Q_network):\n",
    "        self.epsilon = epsilon\n",
    "        self.epsilon_start = epsilon\n",
    "        self.decay = decay\n",
    "        self.epsilon_min = min_epsilon\n",
    "        self.Q_network = Q_network\n",
    "                \n",
    "    def __call__(self, state):\n",
    "        is_greedy = random() > self.epsilon\n",
    "        if is_greedy :        # we select greedy action\n",
    "            with torch.no_grad():\n",
    "                self.Q_network.eval()\n",
    "                q = np.array(self.Q_network(convert_state(state))).squeeze()\n",
    "                self.Q_network.train()\n",
    "            row_list = 5 - np.sum(abs(state.detach().cpu().numpy().squeeze()), axis=0)\n",
    "            act_col_list = np.where(row_list >= 0)[0]\n",
    "            legal_move_q = np.array(q[act_col_list])\n",
    "            index_action = act_col_list[np.argmax(legal_move_q)]\n",
    "        else:\n",
    "            index_action = randint(0,6)     # we sample a random action\n",
    "        return index_action\n",
    "                \n",
    "    def update_epsilon(self):\n",
    "        self.epsilon = self.epsilon*self.decay\n",
    "        if self.epsilon < self.epsilon_min:\n",
    "            self.epsilon = self.epsilon_min\n",
    "        \n",
    "    def reset(self):\n",
    "        self.epsilon = self.epsilon_start\n",
    "\n",
    "#creating the policy, with specific factors        \n",
    "policy = E_Greedy_Policy(0.99, decay=0.999999, min_epsilon=0.05, Q_network=Q_network)"
   ]
  },
  {
   "cell_type": "markdown",
   "id": "2f318492",
   "metadata": {},
   "source": [
    "## 5. One step of Optimization"
   ]
  },
  {
   "cell_type": "code",
   "execution_count": 11,
   "id": "e58a1539",
   "metadata": {},
   "outputs": [],
   "source": [
    "BATCH_SIZE = 32\n",
    "GAMMA = 0.99\n",
    "config = {'double':False, 'n-step':1, 'prioritized':False, 'alpha':0.5, 'beta':0.1}  #set vanilla DQN as default\n",
    "\n",
    "\n",
    "def optimize_model(config=config, GAMMA=GAMMA, BATCH_SIZE=BATCH_SIZE, Q_network=Q_network, Q_target=Q_target, memory=memory):\n",
    "    transitions = memory.sample(BATCH_SIZE, prioritized=config['prioritized'], alpha=config['alpha'], beta=config['beta'])\n",
    "    batch = Transition(*zip(*transitions))\n",
    "    # Compute a mask of non-final states and concatenate the batch elements\n",
    "    non_final_mask = torch.tensor(tuple(map(lambda s: s is not None, batch.next_state)), device=device, dtype=torch.bool)\n",
    "    #if len(batch.next_state)==0:\n",
    "        #print('empty batch.next_state')\n",
    "    #if batch.next_state == [None]*BATCH_SIZE:\n",
    "    non_final_next_states = torch.cat([s for s in batch.next_state if s is not None])\n",
    "    # print(non_final_next_states)\n",
    "    state_batch = torch.cat(batch.state)\n",
    "    action_batch = torch.cat(batch.action)\n",
    "    reward_batch = torch.cat(batch.reward)\n",
    "    \n",
    "    # Compute Q values using policy net\n",
    "    Q_values = Q_network(state_batch).gather(1, action_batch)\n",
    "    # Compute next Q values using Q_targets\n",
    "    next_Q_values = torch.zeros( BATCH_SIZE, device=device)\n",
    "    next_Q_values[non_final_mask] = Q_target(non_final_next_states).max(1)[0].detach()\n",
    "    next_Q_values = next_Q_values.unsqueeze(1)\n",
    "    \n",
    "    # Compute targets\n",
    "    target_Q_values = (next_Q_values * GAMMA) + reward_batch\n",
    "    # Compute MSE Loss\n",
    "    loss = F.mse_loss(Q_values, target_Q_values)\n",
    "    # Optimize the model\n",
    "    optimizer.zero_grad()\n",
    "    loss.backward()\n",
    "    # Trick: gradient clipping\n",
    "    for param in Q_network.parameters():\n",
    "        param.grad.data.clamp_(-1, 1)\n",
    "        \n",
    "    optimizer.step()\n",
    "\n",
    "    return loss"
   ]
  },
  {
   "cell_type": "markdown",
   "id": "82cc6ded",
   "metadata": {},
   "source": [
    "## 6. Training by Self-play"
   ]
  },
  {
   "cell_type": "code",
   "execution_count": 12,
   "id": "047e9fe4",
   "metadata": {},
   "outputs": [],
   "source": [
    "num_episodes = 20000\n",
    "config={'double':False, 'n-step':1, 'prioritized':True, 'alpha':0.5, 'beta':0.1}\n",
    "\n",
    "def self_start(i_episode):\n",
    "    i_episode = 0\n",
    "    game = connect4()\n",
    "    game.reset()\n",
    "    done = False\n",
    "    total_reward = 0\n",
    "    if i_episode % 2 == 0:\n",
    "        j = np.random.choice(7, 1, p=[0.05, 0.1, 0.15, 0.4, 0.15, 0.1, 0.05])[0]\n",
    "        game.state[5, j] = -1\n",
    "        game.turn_count += 1\n",
    "    state=game.state\n",
    "    return game, total_reward, done, state\n",
    "\n",
    "def step_memory(game, total_reward, memory, policy=policy, Q_target=Q_target):\n",
    "    # Get action and act in the world\n",
    "    state=game.state\n",
    "    state_tensor = convert_state(state)\n",
    "    action = policy(state_tensor)\n",
    "    next_state, reward, done = game.step(action, Q_target)\n",
    "    total_reward += float(reward)\n",
    "    # Observe new state\n",
    "    if done:\n",
    "        next_state = game.reset()\n",
    "        #next_state = None\n",
    "    # Store the transition in memory\n",
    "    memory.push(state, action, next_state, float(reward))\n",
    "    return memory, total_reward, done\n",
    "\n",
    "def train(num_episodes=num_episodes, policy=policy, config=config, GAMMA=GAMMA, BATCH_SIZE=BATCH_SIZE, Q_network=Q_network, Q_target=Q_target, memory=memory,seeds=seeds):\n",
    "    start_time=time.time()\n",
    "    randomize(*seeds)\n",
    "    policy.reset()\n",
    "    game = connect4()\n",
    "    game.reset()\n",
    "    rewards_history = []\n",
    "    win_percent = []\n",
    "    win = [[],[],[]]\n",
    "    memory_filled = False\n",
    "    \n",
    "    # Warmup phase!\n",
    "    while not memory_filled:\n",
    "        i_episode=0\n",
    "        game, total_reward, done, state = self_start(i_episode)\n",
    "        while not done:\n",
    "            # Get action and act in the world\n",
    "            memory, total_reward, done = step_memory(game, total_reward, memory)\n",
    "            if done:\n",
    "                i_episode += 1\n",
    "        memory_filled = memory.capacity == len(memory)\n",
    "    print('Done with the warmup')\n",
    "    \n",
    "    # training phase\n",
    "    for i_episode in range(num_episodes):\n",
    "        # New game at every run\n",
    "        game, total_reward, done, state = self_start(i_episode)\n",
    "        while not done:\n",
    "            # Get action and act in the world\n",
    "            memory, total_reward, done = step_memory(game, total_reward, memory)\n",
    "            # Perform one step of the optimization\n",
    "            started_training = True\n",
    "            l = optimize_model(config=config, GAMMA=GAMMA, BATCH_SIZE=BATCH_SIZE, Q_network=Q_network, Q_target=Q_target, memory=memory)\n",
    "\n",
    "        policy.update_epsilon()\n",
    "        rewards_history.append( float(total_reward) )\n",
    "\n",
    "        # Update the target network, copying all weights and biases in DQN\n",
    "        if i_episode % TARGET_UPDATE == 0:\n",
    "            Q_target.load_state_dict(Q_network.state_dict())\n",
    "    \n",
    "        if (i_episode+1) % 2500 == 0:\n",
    "            game.Q = Q_target\n",
    "            for i in range(3):\n",
    "                win[i], _, _ = game.win_p100(Q_target, difficulty=i)\n",
    "            win_percent.append([*win])       #if append win directly, win repeats every row as it is stored as object\n",
    "            r = rewards_history[-10:]\n",
    "            average_reward = sum(r)/len(r)\n",
    "            print('Training at episode {}:--------------------'.format(i_episode+1))\n",
    "            print('reward unscaled:',  total_reward, 'eps: ', policy.epsilon, ' loss:', l.detach().cpu())\n",
    "            print( 'average rewards unscaled in previous 10 games:', average_reward)\n",
    "            print('300 games greedy evaluation: {} win random, {} win basic, {} win medium'.format(*win))\n",
    "    win_percent=np.array(win_percent)\n",
    "    end_time=time.time()\n",
    "    print('Training ',num_episodes,' episodes done in {:.2f} seconds'.format(end_time-start_time))\n",
    "    return Q_network, rewards_history, win_percent"
   ]
  },
  {
   "cell_type": "code",
   "execution_count": 13,
   "id": "e48d5af0",
   "metadata": {
    "scrolled": false
   },
   "outputs": [
    {
     "name": "stderr",
     "output_type": "stream",
     "text": [
      "/var/folders/wz/clvs5gsd7jl5jxf044nvdvw00000gn/T/ipykernel_60329/522593627.py:12: UserWarning: To copy construct from a tensor, it is recommended to use sourceTensor.clone().detach() or sourceTensor.clone().detach().requires_grad_(True), rather than torch.tensor(sourceTensor).\n",
      "  state_tensor = torch.tensor(state, device=device).unsqueeze(0)\n"
     ]
    },
    {
     "name": "stdout",
     "output_type": "stream",
     "text": [
      "Done with the warmup\n",
      "Training at episode 2500:--------------------\n",
      "reward unscaled: -100.0 eps:  0.9875280899390025  loss: tensor(0.0473)\n",
      "average rewards unscaled in previous 10 games: -100.0\n",
      "300 games greedy evaluation: 79 win random, 64 win basic, 52 win medium\n",
      "Training at episode 5000:--------------------\n",
      "reward unscaled: -100.0 eps:  0.9850623519379572  loss: tensor(0.0399)\n",
      "average rewards unscaled in previous 10 games: -60.0\n",
      "300 games greedy evaluation: 92 win random, 78 win basic, 75 win medium\n",
      "Training at episode 7500:--------------------\n",
      "reward unscaled: -100.0 eps:  0.9826027705859718  loss: tensor(0.0847)\n",
      "average rewards unscaled in previous 10 games: -80.0\n",
      "300 games greedy evaluation: 82 win random, 68 win basic, 77 win medium\n",
      "Training at episode 10000:--------------------\n",
      "reward unscaled: -100.0 eps:  0.9801493305106447  loss: tensor(0.0437)\n",
      "average rewards unscaled in previous 10 games: -100.0\n",
      "300 games greedy evaluation: 72 win random, 62 win basic, 55 win medium\n",
      "Training at episode 12500:--------------------\n",
      "reward unscaled: -100.0 eps:  0.9777020163779493  loss: tensor(0.1656)\n",
      "average rewards unscaled in previous 10 games: -60.0\n",
      "300 games greedy evaluation: 79 win random, 79 win basic, 74 win medium\n",
      "Training at episode 15000:--------------------\n",
      "reward unscaled: -100.0 eps:  0.9752608128921517  loss: tensor(0.0333)\n",
      "average rewards unscaled in previous 10 games: -60.0\n",
      "300 games greedy evaluation: 81 win random, 78 win basic, 80 win medium\n",
      "Training at episode 17500:--------------------\n",
      "reward unscaled: -100.0 eps:  0.9728257047957023  loss: tensor(0.0560)\n",
      "average rewards unscaled in previous 10 games: -100.0\n",
      "300 games greedy evaluation: 85 win random, 68 win basic, 70 win medium\n",
      "Training at episode 20000:--------------------\n",
      "reward unscaled: -100.0 eps:  0.9703966768691549  loss: tensor(0.0971)\n",
      "average rewards unscaled in previous 10 games: -60.0\n",
      "300 games greedy evaluation: 74 win random, 66 win basic, 63 win medium\n",
      "Training  20000  episodes done in 5318.07 seconds\n"
     ]
    }
   ],
   "source": [
    "Q_network, rewards_history, win_percent = train()"
   ]
  },
  {
   "cell_type": "code",
   "execution_count": 14,
   "id": "124a4ed9",
   "metadata": {},
   "outputs": [
    {
     "ename": "AttributeError",
     "evalue": "'list' object has no attribute 'shape'",
     "output_type": "error",
     "traceback": [
      "\u001b[0;31m---------------------------------------------------------------------------\u001b[0m",
      "\u001b[0;31mAttributeError\u001b[0m                            Traceback (most recent call last)",
      "\u001b[0;32m/var/folders/wz/clvs5gsd7jl5jxf044nvdvw00000gn/T/ipykernel_60329/2105736779.py\u001b[0m in \u001b[0;36m<module>\u001b[0;34m\u001b[0m\n\u001b[0;32m----> 1\u001b[0;31m \u001b[0mmemory\u001b[0m\u001b[0;34m.\u001b[0m\u001b[0mmemory\u001b[0m\u001b[0;34m.\u001b[0m\u001b[0mshape\u001b[0m\u001b[0;34m\u001b[0m\u001b[0;34m\u001b[0m\u001b[0m\n\u001b[0m",
      "\u001b[0;31mAttributeError\u001b[0m: 'list' object has no attribute 'shape'"
     ]
    }
   ],
   "source": [
    "memory.memory.shape"
   ]
  },
  {
   "cell_type": "code",
   "execution_count": 17,
   "id": "58eb02dc",
   "metadata": {},
   "outputs": [
    {
     "data": {
      "text/plain": [
       "array([[74, 66, 63],\n",
       "       [74, 66, 63],\n",
       "       [74, 66, 63],\n",
       "       [74, 66, 63],\n",
       "       [74, 66, 63],\n",
       "       [74, 66, 63],\n",
       "       [74, 66, 63],\n",
       "       [74, 66, 63]])"
      ]
     },
     "execution_count": 17,
     "metadata": {},
     "output_type": "execute_result"
    }
   ],
   "source": [
    "win_percent"
   ]
  },
  {
   "cell_type": "code",
   "execution_count": 16,
   "id": "df1744cb",
   "metadata": {},
   "outputs": [
    {
     "data": {
      "image/png": "[encoded data removed]",
      "text/plain": [
       "<Figure size 432x288 with 1 Axes>"
      ]
     },
     "metadata": {
      "needs_background": "light"
     },
     "output_type": "display_data"
    }
   ],
   "source": [
    "plt.plot([i*2500 for i in range(8)], win_percent[:,0], label='random')\n",
    "plt.plot([i*2500 for i in range(8)], win_percent[:,1], label='basic')\n",
    "plt.plot([i*2500 for i in range(8)], win_percent[:,2], label='medium')\n",
    "\n",
    "plt.xlabel('No. of Training Episodes')\n",
    "plt.ylabel('Win Percentage')\n",
    "plt.title('Win Percentage vs Difficulty')\n",
    "plt.legend()\n",
    "plt.show()"
   ]
  },
  {
   "cell_type": "markdown",
   "id": "7f6eb4f3",
   "metadata": {},
   "source": [
    "### Let's play Connect4 with DQN agent"
   ]
  },
  {
   "cell_type": "code",
   "execution_count": 18,
   "id": "092ce2cf",
   "metadata": {
    "scrolled": false
   },
   "outputs": [
    {
     "data": {
      "image/png": "[encoded data removed]",
      "text/plain": [
       "<Figure size 432x288 with 1 Axes>"
      ]
     },
     "metadata": {
      "needs_background": "light"
     },
     "output_type": "display_data"
    },
    {
     "name": "stdout",
     "output_type": "stream",
     "text": [
      "enter column: (0-6)\n",
      "3\n"
     ]
    },
    {
     "data": {
      "image/png": "[encoded data removed]",
      "text/plain": [
       "<Figure size 432x288 with 1 Axes>"
      ]
     },
     "metadata": {
      "needs_background": "light"
     },
     "output_type": "display_data"
    },
    {
     "data": {
      "image/png": "[encoded data removed]",
      "text/plain": [
       "<Figure size 432x288 with 1 Axes>"
      ]
     },
     "metadata": {
      "needs_background": "light"
     },
     "output_type": "display_data"
    },
    {
     "name": "stdout",
     "output_type": "stream",
     "text": [
      "enter column: (0-6)\n",
      "3\n"
     ]
    },
    {
     "data": {
      "image/png": "[encoded data removed]",
      "text/plain": [
       "<Figure size 432x288 with 1 Axes>"
      ]
     },
     "metadata": {
      "needs_background": "light"
     },
     "output_type": "display_data"
    },
    {
     "data": {
      "image/png": "[encoded data removed]",
      "text/plain": [
       "<Figure size 432x288 with 1 Axes>"
      ]
     },
     "metadata": {
      "needs_background": "light"
     },
     "output_type": "display_data"
    },
    {
     "name": "stdout",
     "output_type": "stream",
     "text": [
      "enter column: (0-6)\n",
      "4\n"
     ]
    },
    {
     "data": {
      "image/png": "[encoded data removed]",
      "text/plain": [
       "<Figure size 432x288 with 1 Axes>"
      ]
     },
     "metadata": {
      "needs_background": "light"
     },
     "output_type": "display_data"
    },
    {
     "data": {
      "image/png": "[encoded data removed]",
      "text/plain": [
       "<Figure size 432x288 with 1 Axes>"
      ]
     },
     "metadata": {
      "needs_background": "light"
     },
     "output_type": "display_data"
    },
    {
     "name": "stdout",
     "output_type": "stream",
     "text": [
      "enter column: (0-6)\n",
      "3\n"
     ]
    },
    {
     "data": {
      "image/png": "[encoded data removed]",
      "text/plain": [
       "<Figure size 432x288 with 1 Axes>"
      ]
     },
     "metadata": {
      "needs_background": "light"
     },
     "output_type": "display_data"
    },
    {
     "data": {
      "image/png": "[encoded data removed]",
      "text/plain": [
       "<Figure size 432x288 with 1 Axes>"
      ]
     },
     "metadata": {
      "needs_background": "light"
     },
     "output_type": "display_data"
    },
    {
     "name": "stdout",
     "output_type": "stream",
     "text": [
      "enter column: (0-6)\n",
      "3\n",
      "-1 wins\n"
     ]
    },
    {
     "data": {
      "image/png": "[encoded data removed]",
      "text/plain": [
       "<Figure size 432x288 with 1 Axes>"
      ]
     },
     "metadata": {
      "needs_background": "light"
     },
     "output_type": "display_data"
    }
   ],
   "source": [
    "playWithDQN = True\n",
    "if playWithDQN:\n",
    "    test_DQN_1 = connect4()\n",
    "    test_DQN_1.play_DQN(Q_network)"
   ]
  },
  {
   "cell_type": "code",
   "execution_count": 19,
   "id": "ce2537ca",
   "metadata": {
    "scrolled": false
   },
   "outputs": [
    {
     "name": "stdout",
     "output_type": "stream",
     "text": [
      "enter column: (0-6)\n",
      "3\n"
     ]
    },
    {
     "data": {
      "image/png": "[encoded data removed]",
      "text/plain": [
       "<Figure size 432x288 with 1 Axes>"
      ]
     },
     "metadata": {
      "needs_background": "light"
     },
     "output_type": "display_data"
    },
    {
     "data": {
      "image/png": "[encoded data removed]",
      "text/plain": [
       "<Figure size 432x288 with 1 Axes>"
      ]
     },
     "metadata": {
      "needs_background": "light"
     },
     "output_type": "display_data"
    },
    {
     "name": "stdout",
     "output_type": "stream",
     "text": [
      "enter column: (0-6)\n",
      "3\n"
     ]
    },
    {
     "data": {
      "image/png": "[encoded data removed]",
      "text/plain": [
       "<Figure size 432x288 with 1 Axes>"
      ]
     },
     "metadata": {
      "needs_background": "light"
     },
     "output_type": "display_data"
    },
    {
     "data": {
      "image/png": "[encoded data removed]",
      "text/plain": [
       "<Figure size 432x288 with 1 Axes>"
      ]
     },
     "metadata": {
      "needs_background": "light"
     },
     "output_type": "display_data"
    },
    {
     "name": "stdout",
     "output_type": "stream",
     "text": [
      "enter column: (0-6)\n",
      "3\n"
     ]
    },
    {
     "data": {
      "image/png": "[encoded data removed]",
      "text/plain": [
       "<Figure size 432x288 with 1 Axes>"
      ]
     },
     "metadata": {
      "needs_background": "light"
     },
     "output_type": "display_data"
    },
    {
     "data": {
      "image/png": "[encoded data removed]",
      "text/plain": [
       "<Figure size 432x288 with 1 Axes>"
      ]
     },
     "metadata": {
      "needs_background": "light"
     },
     "output_type": "display_data"
    },
    {
     "name": "stdout",
     "output_type": "stream",
     "text": [
      "enter column: (0-6)\n",
      "4\n"
     ]
    },
    {
     "data": {
      "image/png": "[encoded data removed]",
      "text/plain": [
       "<Figure size 432x288 with 1 Axes>"
      ]
     },
     "metadata": {
      "needs_background": "light"
     },
     "output_type": "display_data"
    },
    {
     "data": {
      "image/png": "[encoded data removed]",
      "text/plain": [
       "<Figure size 432x288 with 1 Axes>"
      ]
     },
     "metadata": {
      "needs_background": "light"
     },
     "output_type": "display_data"
    },
    {
     "name": "stdout",
     "output_type": "stream",
     "text": [
      "enter column: (0-6)\n",
      "2\n"
     ]
    },
    {
     "data": {
      "image/png": "[encoded data removed]",
      "text/plain": [
       "<Figure size 432x288 with 1 Axes>"
      ]
     },
     "metadata": {
      "needs_background": "light"
     },
     "output_type": "display_data"
    },
    {
     "data": {
      "image/png": "[encoded data removed]",
      "text/plain": [
       "<Figure size 432x288 with 1 Axes>"
      ]
     },
     "metadata": {
      "needs_background": "light"
     },
     "output_type": "display_data"
    },
    {
     "name": "stdout",
     "output_type": "stream",
     "text": [
      "enter column: (0-6)\n",
      "1\n"
     ]
    },
    {
     "data": {
      "image/png": "[encoded data removed]",
      "text/plain": [
       "<Figure size 432x288 with 1 Axes>"
      ]
     },
     "metadata": {
      "needs_background": "light"
     },
     "output_type": "display_data"
    },
    {
     "data": {
      "image/png": "[encoded data removed]",
      "text/plain": [
       "<Figure size 432x288 with 1 Axes>"
      ]
     },
     "metadata": {
      "needs_background": "light"
     },
     "output_type": "display_data"
    },
    {
     "name": "stdout",
     "output_type": "stream",
     "text": [
      "enter column: (0-6)\n",
      "2\n"
     ]
    },
    {
     "data": {
      "image/png": "[encoded data removed]",
      "text/plain": [
       "<Figure size 432x288 with 1 Axes>"
      ]
     },
     "metadata": {
      "needs_background": "light"
     },
     "output_type": "display_data"
    },
    {
     "data": {
      "image/png": "[encoded data removed]",
      "text/plain": [
       "<Figure size 432x288 with 1 Axes>"
      ]
     },
     "metadata": {
      "needs_background": "light"
     },
     "output_type": "display_data"
    },
    {
     "name": "stdout",
     "output_type": "stream",
     "text": [
      "enter column: (0-6)\n",
      "4\n",
      "-1 wins\n"
     ]
    },
    {
     "data": {
      "image/png": "[encoded data removed]",
      "text/plain": [
       "<Figure size 432x288 with 1 Axes>"
      ]
     },
     "metadata": {
      "needs_background": "light"
     },
     "output_type": "display_data"
    }
   ],
   "source": [
    "if playWithDQN:\n",
    "    test_DQN_2 = connect4()\n",
    "    test_DQN_2.play_DQN(Q_network, starter=-1)"
   ]
  },
  {
   "cell_type": "code",
   "execution_count": null,
   "id": "149b5e37",
   "metadata": {},
   "outputs": [],
   "source": [
    "torch.save(model.state_dict(), 'model.ckpt')"
   ]
  },
  {
   "cell_type": "code",
   "execution_count": null,
   "id": "9d1951ba",
   "metadata": {},
   "outputs": [],
   "source": [
    "torch.save(model.state_dict(), PATH)\n",
    "model = TheModelClass(*args, **kwargs)\n",
    "model.load_state_dict(torch.load(PATH))\n",
    "model.eval()"
   ]
  }
 ],
 "metadata": {
  "kernelspec": {
   "display_name": "Python 3 (ipykernel)",
   "language": "python",
   "name": "python3"
  },
  "language_info": {
   "codemirror_mode": {
    "name": "ipython",
    "version": 3
   },
   "file_extension": ".py",
   "mimetype": "text/x-python",
   "name": "python",
   "nbconvert_exporter": "python",
   "pygments_lexer": "ipython3",
   "version": "3.9.7"
  }
 },
 "nbformat": 4,
 "nbformat_minor": 5
}
