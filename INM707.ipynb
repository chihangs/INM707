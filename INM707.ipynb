{
 "cells": [
  {
   "cell_type": "code",
   "execution_count": 1,
   "id": "502ae3e1",
   "metadata": {},
   "outputs": [],
   "source": [
    "import numpy as np\n",
    "import copy\n",
    "import tensorflow as tf\n",
    "from sklearn.model_selection import train_test_split\n",
    "from keras.models import Sequential\n",
    "from keras.layers import Dense, Activation, Flatten\n",
    "from tensorflow.keras.optimizers import SGD, Adam, RMSprop\n",
    "from tensorflow.keras import regularizers\n",
    "from keras.layers import Dropout\n",
    "from sklearn.preprocessing import StandardScaler\n",
    "from abc import ABC, abstractmethod\n",
    "from random import random\n",
    "import seaborn as sns\n",
    "from scipy import stats\n",
    "import matplotlib.pyplot as plt\n",
    "import os\n",
    "#initialize for random seeds/states\n",
    "tf.keras.backend.clear_session()\n",
    "os.environ['PYTHONHASHSEED'] = '0'\n",
    "rng = np.random.default_rng(12345)\n",
    "np.random.seed(42)\n",
    "tf.random.set_seed(42)"
   ]
  },
  {
   "cell_type": "code",
   "execution_count": 2,
   "id": "407fae41",
   "metadata": {},
   "outputs": [],
   "source": [
    "rfloat = rng.random()"
   ]
  },
  {
   "cell_type": "code",
   "execution_count": 3,
   "id": "4d63a4f0",
   "metadata": {},
   "outputs": [
    {
     "name": "stdout",
     "output_type": "stream",
     "text": [
      "0.22733602246716966\n"
     ]
    }
   ],
   "source": [
    "print(rfloat)"
   ]
  },
  {
   "cell_type": "code",
   "execution_count": 4,
   "id": "bf65b1b3",
   "metadata": {},
   "outputs": [],
   "source": [
    "class paper_game(ABC):\n",
    "    def __init__(self, train, start_state, train_number=2000):\n",
    "        self.state=start_state\n",
    "        self.train = train\n",
    "        self.train_number=train_number\n",
    "        \n",
    "    @abstractmethod\n",
    "    def transition(self, state, action):\n",
    "        #return next state\n",
    "        pass\n",
    "    \n",
    "    @abstractmethod\n",
    "    def reward(self, state, action):\n",
    "        #return reward immediately after action\n",
    "        pass\n",
    "    \n",
    "    @abstractmethod\n",
    "    def policy(self, state):\n",
    "        #return action\n",
    "        pass\n",
    "    \n",
    "    @abstractmethod\n",
    "    def Q(self, state, action):\n",
    "        pass\n",
    "    \n",
    "    @abstractmethod\n",
    "    def Q_update(self, alpha, gamma):\n",
    "        pass"
   ]
  },
  {
   "cell_type": "code",
   "execution_count": 5,
   "id": "fd081085",
   "metadata": {},
   "outputs": [],
   "source": [
    "class tit_tac_toe(paper_game):\n",
    "#state: 3x3 array to represent board config, with 1 representing self-checker, -1 representing opponent-checker, 0 representing empty\n",
    "    def __init__(self, train, start_state=np.zeros((3,3), dtype=np.int8), train_number=2000):\n",
    "        self.state=start_state\n",
    "        self.status_func = win_status_function\n",
    "        self.train = train\n",
    "        self.train_number=train_number\n",
    "        self.epsilon = 0.9\n",
    "        self.V = np.zeros(3^9)\n",
    "    \n",
    "    def transition(self, state, action):\n",
    "        #action: a list of row and column index to indicate which cell is chosen\n",
    "        new_state = copy.deepcopy(state)\n",
    "        new_state[action[0]][action[1]] = 1\n",
    "        return new_state\n",
    "        #return next state\n",
    "        \n",
    "    def action_list(self, state):\n",
    "        return np.where(state == 0)\n",
    "    \n",
    "    def win_status(self, s):\n",
    "        #s: state, return whether win or not\n",
    "        win = 3 in np.sum(s, axis=0) or 3 in np.sum(s, axis=1) or 3 in s.diagonal or 3 in np.fliplr(s).diagonal()\n",
    "        return win\n",
    "    \n",
    "    def reward(self, state, action):\n",
    "        s = self.transition(state, action)\n",
    "        if self.win_status(s):\n",
    "            reward = 100\n",
    "        else:\n",
    "            reward = 0\n",
    "        return reward\n",
    "\n",
    "    def V(self, state):\n",
    "        ref = np.dot((state + 1).flatten() , np.matrix([1,3,3**2,3**3,3**4,3**5,3**6,3**7,3**8]))\n",
    "        V = V[ref]\n",
    "        return V\n",
    "    \n",
    "    def Q(self, state, action):\n",
    "        new_state = self.transition(state, action)\n",
    "        Q = self.V(new_state)\n",
    "        return Q\n",
    "\n",
    "    def Q_update(self, alpha, gamma):\n",
    "        pass\n",
    "    \n",
    "    def policy(self, state):\n",
    "        action_list = self.action_list(state)\n",
    "        exploit = self.train or rng.random()> self.epsilon\n",
    "        if exploit:\n",
    "            max = -10000\n",
    "            action=[]\n",
    "            for i in range(len(action_list)):\n",
    "                a = [action_list[0][i],action_list[1][i]]\n",
    "                temp = self.Q(state, a)\n",
    "                if temp > max:\n",
    "                    max = temp\n",
    "                    action = a\n",
    "        else:\n",
    "            i = np.random.randint(len(action_list[0]))\n",
    "            action = [action_list[0][i],action_list[1][i]]\n",
    "\n",
    "        if self.epsilon < 0.5:\n",
    "            self.epsilon *= 0.9999\n",
    "        else:\n",
    "            self.epsilon *= 0.99999\n",
    "        \n",
    "        return action\n",
    "            \n",
    "        \n",
    "        "
   ]
  },
  {
   "cell_type": "code",
   "execution_count": 6,
   "id": "2dc3ec58",
   "metadata": {},
   "outputs": [
    {
     "name": "stdout",
     "output_type": "stream",
     "text": [
      "9\n",
      "[0 0 0 1 1 1 2 2 2]\n",
      "[0 1 2 0 1 2 0 1 2]\n",
      "[0 1 2 1 2 3 2 3 4]\n"
     ]
    }
   ],
   "source": [
    "x=np.zeros((3,3))\n",
    "y = np.where(x==0)\n",
    "print(len(y[0]))\n",
    "for i in y:\n",
    "    print(i)\n",
    "z = np.sum(y, axis=0)\n",
    "print(z)"
   ]
  },
  {
   "cell_type": "code",
   "execution_count": 7,
   "id": "430f5c06",
   "metadata": {},
   "outputs": [
    {
     "name": "stdout",
     "output_type": "stream",
     "text": [
      "8\n"
     ]
    }
   ],
   "source": [
    "print (np.argmax(z))"
   ]
  },
  {
   "cell_type": "code",
   "execution_count": 8,
   "id": "32bfafc7",
   "metadata": {},
   "outputs": [
    {
     "name": "stdout",
     "output_type": "stream",
     "text": [
      "[0. 0. 0. 0. 0. 0. 0. 0. 0.]\n"
     ]
    }
   ],
   "source": [
    "print(x.flatten())"
   ]
  },
  {
   "cell_type": "code",
   "execution_count": 9,
   "id": "eba45b51",
   "metadata": {},
   "outputs": [
    {
     "name": "stdout",
     "output_type": "stream",
     "text": [
      "[[0. 0. 0.]\n",
      " [0. 0. 0.]\n",
      " [0. 0. 0.]]\n"
     ]
    }
   ],
   "source": [
    "print(x)"
   ]
  },
  {
   "cell_type": "code",
   "execution_count": 10,
   "id": "861cf7a8",
   "metadata": {},
   "outputs": [
    {
     "name": "stdout",
     "output_type": "stream",
     "text": [
      "[0. 0. 0. 0.]\n"
     ]
    }
   ],
   "source": [
    "print(np.zeros(4))"
   ]
  },
  {
   "cell_type": "code",
   "execution_count": 11,
   "id": "a504077b",
   "metadata": {},
   "outputs": [
    {
     "name": "stdout",
     "output_type": "stream",
     "text": [
      "[1, 2, 3]\n"
     ]
    }
   ],
   "source": [
    "print([1, 2, 3])"
   ]
  },
  {
   "cell_type": "code",
   "execution_count": 12,
   "id": "af9937d3",
   "metadata": {},
   "outputs": [
    {
     "name": "stdout",
     "output_type": "stream",
     "text": [
      "[[35202]]\n"
     ]
    }
   ],
   "source": [
    "a=np.matrix([1,3,3**2,3**3,3**4,3**5,3**6,3**7,3**8])\n",
    "print(np.dot(a,z))"
   ]
  },
  {
   "cell_type": "code",
   "execution_count": null,
   "id": "cc7d5cda",
   "metadata": {},
   "outputs": [],
   "source": []
  }
 ],
 "metadata": {
  "kernelspec": {
   "display_name": "Python 3 (ipykernel)",
   "language": "python",
   "name": "python3"
  },
  "language_info": {
   "codemirror_mode": {
    "name": "ipython",
    "version": 3
   },
   "file_extension": ".py",
   "mimetype": "text/x-python",
   "name": "python",
   "nbconvert_exporter": "python",
   "pygments_lexer": "ipython3",
   "version": "3.9.7"
  }
 },
 "nbformat": 4,
 "nbformat_minor": 5
}
