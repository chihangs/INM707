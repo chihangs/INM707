{
 "cells": [
  {
   "cell_type": "code",
   "execution_count": 1,
   "id": "29dd4839",
   "metadata": {},
   "outputs": [],
   "source": [
    "import numpy as np\n",
    "import copy\n",
    "import tensorflow as tf\n",
    "from sklearn.model_selection import train_test_split\n",
    "from keras.models import Sequential\n",
    "from keras.layers import Dense, Activation, Flatten\n",
    "from tensorflow.keras.optimizers import SGD, Adam, RMSprop\n",
    "from tensorflow.keras import regularizers\n",
    "from keras.layers import Dropout\n",
    "from sklearn.preprocessing import StandardScaler\n",
    "from abc import ABC, abstractmethod\n",
    "from random import random\n",
    "import seaborn as sns\n",
    "from scipy import stats\n",
    "import matplotlib.pyplot as plt\n",
    "import os\n",
    "#initialize for random seeds/states\n",
    "tf.keras.backend.clear_session()\n",
    "os.environ['PYTHONHASHSEED'] = '0'\n",
    "rng = np.random.default_rng(12345)\n",
    "np.random.seed(42)\n",
    "tf.random.set_seed(42)"
   ]
  },
  {
   "cell_type": "code",
   "execution_count": 2,
   "id": "2f0c9f4e",
   "metadata": {},
   "outputs": [],
   "source": [
    "rfloat = rng.random()"
   ]
  },
  {
   "cell_type": "code",
   "execution_count": 3,
   "id": "ed4404b7",
   "metadata": {},
   "outputs": [
    {
     "name": "stdout",
     "output_type": "stream",
     "text": [
      "0.22733602246716966\n"
     ]
    }
   ],
   "source": [
    "print(rfloat)"
   ]
  },
  {
   "cell_type": "code",
   "execution_count": 4,
   "id": "45eaf10d",
   "metadata": {},
   "outputs": [],
   "source": [
    "class paper_game(ABC):\n",
    "    def __init__(self, train, start_state, train_number=2000):\n",
    "        self.state=start_state\n",
    "        self.train = train\n",
    "        self.train_number=train_number\n",
    "        \n",
    "    @abstractmethod\n",
    "    def transition(self, state, action):\n",
    "        #return next state\n",
    "        pass\n",
    "    \n",
    "    @abstractmethod\n",
    "    def reward(self, state, action):\n",
    "        #return reward immediately after action\n",
    "        pass\n",
    "    \n",
    "    @abstractmethod\n",
    "    def policy(self, state):\n",
    "        #return action\n",
    "        pass\n",
    "    \n",
    "    @abstractmethod\n",
    "    def Q(self, state, action):\n",
    "        pass\n",
    "    \n",
    "    @abstractmethod\n",
    "    def Q_update(self, alpha, gamma):\n",
    "        pass"
   ]
  },
  {
   "cell_type": "code",
   "execution_count": 5,
   "id": "2a1d1ce2",
   "metadata": {},
   "outputs": [],
   "source": [
    "class tit_tac_toe(paper_game):\n",
    "#state: 3x3 array to represent board config, with 1 representing self-checker, -1 representing opponent-checker, 0 representing empty\n",
    "    def __init__(self, train, start_state=np.zeros((3,3), dtype=np.int8), train_number=2000):\n",
    "        self.state=start_state\n",
    "        self.status_func = win_status_function\n",
    "        self.train = train\n",
    "        self.train_number=train_number\n",
    "    \n",
    "    def transition(self, state, action):\n",
    "        #action: a list of row and column index to indicate which cell is chosen\n",
    "        new_state = copy.deepcopy(state)\n",
    "        new_state[action[0]][action[1]] = 1\n",
    "        return new_state\n",
    "        #return next state\n",
    "        \n",
    "    def reward(self, state, action):\n",
    "        s = transition(self, state, action)\n",
    "        if 3 in np.sum(s, axis=0) or 3 in np.sum(s, axis=1) or 3 in s.diagonal or 3 in np.fliplr(s).diagonal():\n",
    "            reward = 100\n",
    "        return reward\n",
    "        "
   ]
  },
  {
   "cell_type": "code",
   "execution_count": null,
   "id": "7be4e36a",
   "metadata": {},
   "outputs": [],
   "source": []
  }
 ],
 "metadata": {
  "kernelspec": {
   "display_name": "Python 3 (ipykernel)",
   "language": "python",
   "name": "python3"
  },
  "language_info": {
   "codemirror_mode": {
    "name": "ipython",
    "version": 3
   },
   "file_extension": ".py",
   "mimetype": "text/x-python",
   "name": "python",
   "nbconvert_exporter": "python",
   "pygments_lexer": "ipython3",
   "version": "3.9.7"
  }
 },
 "nbformat": 4,
 "nbformat_minor": 5
}
